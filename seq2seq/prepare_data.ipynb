{
 "cells": [
  {
   "cell_type": "code",
   "execution_count": 1,
   "metadata": {
    "collapsed": true
   },
   "outputs": [],
   "source": [
    "import pandas as pd\n",
    "import numpy as np\n",
    "import re"
   ]
  },
  {
   "cell_type": "code",
   "execution_count": 2,
   "metadata": {
    "collapsed": false
   },
   "outputs": [
    {
     "name": "stdout",
     "output_type": "stream",
     "text": [
      "(386107, 3)\n",
      "            ID                                             Name  CategoryID\n",
      "0  102990537.0          Máy sấy tay tự động Gorlde B906 (B-906)      1965.0\n",
      "1  103434694.0                         Nguồn JeTek Q5350 - 350W        27.0\n",
      "2  103450931.0  Bàn phím E-Blue Linear Desktop EKM082 (EKM 082)        31.0\n",
      "3  104010386.0                  Puzzle ghép số Winwintoys 63392      1659.0\n",
      "4  104066603.0     Gối cho bé Ku Ku KU2003 (KU-2003/ Kuku 2003)       796.0\n"
     ]
    }
   ],
   "source": [
    "# Load all root products\n",
    "df_roots = pd.read_csv('../data/RootProducts.csv')\n",
    "df_roots['ID'] = pd.to_numeric(df_roots['ID'], errors='coerce')\n",
    "df_roots = df_roots.dropna(subset=['ID'])\n",
    "\n",
    "print(df_roots.shape)\n",
    "print(df_roots.head())"
   ]
  },
  {
   "cell_type": "code",
   "execution_count": 3,
   "metadata": {
    "collapsed": true
   },
   "outputs": [],
   "source": [
    "# Build product dictionary\n",
    "root_products = {}\n",
    "for _, row in df_roots.iterrows():\n",
    "    root_products[int(row[\"ID\"])] = row[\"Name\"]"
   ]
  },
  {
   "cell_type": "code",
   "execution_count": 5,
   "metadata": {
    "collapsed": false
   },
   "outputs": [
    {
     "name": "stdout",
     "output_type": "stream",
     "text": [
      "(34735, 5)\n"
     ]
    },
    {
     "data": {
      "text/html": [
       "<div>\n",
       "<table border=\"1\" class=\"dataframe\">\n",
       "  <thead>\n",
       "    <tr style=\"text-align: right;\">\n",
       "      <th></th>\n",
       "      <th>ID</th>\n",
       "      <th>Name</th>\n",
       "      <th>DetailUrl</th>\n",
       "      <th>RootProductId</th>\n",
       "      <th>CategoryID</th>\n",
       "    </tr>\n",
       "  </thead>\n",
       "  <tbody>\n",
       "    <tr>\n",
       "      <th>0</th>\n",
       "      <td>3742728165466982641</td>\n",
       "      <td>Camera AHD hồng ngoại VANTECH VP-141AHDL</td>\n",
       "      <td>http://dawa.vn/san-pham/camera-ahd-hong-ngoai-...</td>\n",
       "      <td>2091270828</td>\n",
       "      <td>661</td>\n",
       "    </tr>\n",
       "    <tr>\n",
       "      <th>1</th>\n",
       "      <td>2895707749166052907</td>\n",
       "      <td>Camera IP hồng ngoại Xoay, Zoom eView PTB04N13</td>\n",
       "      <td>http://sieuthivienthong.com/Camera-IP-eView/Ca...</td>\n",
       "      <td>940800456</td>\n",
       "      <td>661</td>\n",
       "    </tr>\n",
       "    <tr>\n",
       "      <th>2</th>\n",
       "      <td>3633931492053323984</td>\n",
       "      <td>CAMERA AHD HỒNG NGOẠI ESCORT ESC-603AHD 1.3</td>\n",
       "      <td>http://tranglinh.vn/camera-ahd-hong-ngoai-esco...</td>\n",
       "      <td>661797813</td>\n",
       "      <td>661</td>\n",
       "    </tr>\n",
       "    <tr>\n",
       "      <th>3</th>\n",
       "      <td>6413984956933600643</td>\n",
       "      <td>Camera WV-CP300</td>\n",
       "      <td>http://camerasg.com/component/virtuemart/camer...</td>\n",
       "      <td>2112065026</td>\n",
       "      <td>661</td>\n",
       "    </tr>\n",
       "    <tr>\n",
       "      <th>4</th>\n",
       "      <td>6359238099067425394</td>\n",
       "      <td>Camera Hikvision DS-2CE16F1T-IT5 (HD-TVI 3M)</td>\n",
       "      <td>http://cameranhapkhau.com/camera-hikvision-ds2...</td>\n",
       "      <td>1018887072</td>\n",
       "      <td>661</td>\n",
       "    </tr>\n",
       "  </tbody>\n",
       "</table>\n",
       "</div>"
      ],
      "text/plain": [
       "                    ID                                            Name  \\\n",
       "0  3742728165466982641        Camera AHD hồng ngoại VANTECH VP-141AHDL   \n",
       "1  2895707749166052907  Camera IP hồng ngoại Xoay, Zoom eView PTB04N13   \n",
       "2  3633931492053323984     CAMERA AHD HỒNG NGOẠI ESCORT ESC-603AHD 1.3   \n",
       "3  6413984956933600643                                 Camera WV-CP300   \n",
       "4  6359238099067425394    Camera Hikvision DS-2CE16F1T-IT5 (HD-TVI 3M)   \n",
       "\n",
       "                                           DetailUrl  RootProductId  \\\n",
       "0  http://dawa.vn/san-pham/camera-ahd-hong-ngoai-...     2091270828   \n",
       "1  http://sieuthivienthong.com/Camera-IP-eView/Ca...      940800456   \n",
       "2  http://tranglinh.vn/camera-ahd-hong-ngoai-esco...      661797813   \n",
       "3  http://camerasg.com/component/virtuemart/camer...     2112065026   \n",
       "4  http://cameranhapkhau.com/camera-hikvision-ds2...     1018887072   \n",
       "\n",
       "   CategoryID  \n",
       "0         661  \n",
       "1         661  \n",
       "2         661  \n",
       "3         661  \n",
       "4         661  "
      ]
     },
     "execution_count": 5,
     "metadata": {},
     "output_type": "execute_result"
    }
   ],
   "source": [
    "# Load training data\n",
    "data = pd.read_csv('../data/cat661-train.csv')\n",
    "data = data[data.RootProductId.isin(list(root_products.keys()))]\n",
    "print(data.shape)\n",
    "\n",
    "X = data.iloc[:,1].values\n",
    "y = data.iloc[:,3].values\n",
    "\n",
    "data.head()"
   ]
  },
  {
   "cell_type": "code",
   "execution_count": 6,
   "metadata": {
    "collapsed": true
   },
   "outputs": [],
   "source": [
    "# map list roots product\n",
    "X_roots = []\n",
    "for _id in y:\n",
    "    X_roots.append(root_products[_id])\n",
    "    \n",
    "# saved seq - seq data\n",
    "df_save = pd.DataFrame(data={\"Name\": X, \"RootName\": X_roots, \"RootID\": y})\n",
    "df_save.to_csv('../data/cat661-root-train.csv', index=False)"
   ]
  },
  {
   "cell_type": "code",
   "execution_count": 7,
   "metadata": {
    "collapsed": false
   },
   "outputs": [
    {
     "name": "stdout",
     "output_type": "stream",
     "text": [
      "(34751, 5)\n"
     ]
    }
   ],
   "source": [
    "# Load test data\n",
    "data_test = pd.read_csv('../data/cat661-test.csv')\n",
    "data_test = data_test[data_test.RootProductId.isin(list(root_products.keys()))]\n",
    "print(data_test.shape)\n",
    "\n",
    "X = data_test.iloc[:,1].values\n",
    "y = data_test.iloc[:,3].values"
   ]
  },
  {
   "cell_type": "code",
   "execution_count": 8,
   "metadata": {
    "collapsed": true
   },
   "outputs": [],
   "source": [
    "# map list roots product\n",
    "X_roots = []\n",
    "for _id in y:\n",
    "    X_roots.append(root_products[_id])\n",
    "    \n",
    "# saved seq - seq data\n",
    "df_save = pd.DataFrame(data={\"Name\": X, \"RootName\": X_roots, \"RootID\": y})\n",
    "df_save.to_csv('../data/cat661-root-test.csv', index=False)"
   ]
  },
  {
   "cell_type": "code",
   "execution_count": null,
   "metadata": {
    "collapsed": true
   },
   "outputs": [],
   "source": []
  }
 ],
 "metadata": {
  "kernelspec": {
   "display_name": "Python 3",
   "language": "python",
   "name": "python3"
  },
  "language_info": {
   "codemirror_mode": {
    "name": "ipython",
    "version": 3
   },
   "file_extension": ".py",
   "mimetype": "text/x-python",
   "name": "python",
   "nbconvert_exporter": "python",
   "pygments_lexer": "ipython3",
   "version": "3.6.0"
  }
 },
 "nbformat": 4,
 "nbformat_minor": 2
}
